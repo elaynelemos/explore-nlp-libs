{
 "cells": [
  {
   "cell_type": "markdown",
   "id": "b273360e",
   "metadata": {},
   "source": [
    "## Exploring Errant\n",
    "\n",
    "### Based on\n",
    "- https://github.com/chrisjbryant/errant/"
   ]
  },
  {
   "cell_type": "code",
   "execution_count": 1,
   "id": "612b6438",
   "metadata": {},
   "outputs": [],
   "source": [
    "import errant\n",
    "\n",
    "annotator = errant.load('en')"
   ]
  },
  {
   "cell_type": "code",
   "execution_count": 3,
   "id": "e9fa8464",
   "metadata": {},
   "outputs": [],
   "source": [
    "orig = annotator.parse('This are gramamtical sentence.')\n",
    "cor = annotator.parse('This is a grammatical sentence.')\n",
    "\n",
    "edits = annotator.annotate(orig, cor)"
   ]
  },
  {
   "cell_type": "code",
   "execution_count": 5,
   "id": "8e36b0b0",
   "metadata": {},
   "outputs": [
    {
     "name": "stdout",
     "output_type": "stream",
     "text": [
      "1 2 are 1 2 is R:VERB:SVA\n",
      "2 2  2 3 a M:DET\n",
      "2 3 gramamtical 3 4 grammatical R:SPELL\n"
     ]
    }
   ],
   "source": [
    "for e in edits:\n",
    "    print(e.o_start, e.o_end, e.o_str, e.c_start, e.c_end, e.c_str, e.type)"
   ]
  }
 ],
 "metadata": {
  "kernelspec": {
   "display_name": "Python 3 (ipykernel)",
   "language": "python",
   "name": "python3"
  },
  "language_info": {
   "codemirror_mode": {
    "name": "ipython",
    "version": 3
   },
   "file_extension": ".py",
   "mimetype": "text/x-python",
   "name": "python",
   "nbconvert_exporter": "python",
   "pygments_lexer": "ipython3",
   "version": "3.8.10"
  }
 },
 "nbformat": 4,
 "nbformat_minor": 5
}
