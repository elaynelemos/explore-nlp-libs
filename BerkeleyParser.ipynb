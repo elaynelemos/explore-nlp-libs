{
 "cells": [
  {
   "cell_type": "markdown",
   "id": "ad7296b3",
   "metadata": {},
   "source": [
    "## Exploring Berkeley Neural Parser (benepar)\n",
    "\n",
    "### Based on\n",
    "- https://github.com/nikitakit/self-attentive-parser/\n",
    "- https://parser.kitaev.io/"
   ]
  },
  {
   "cell_type": "code",
   "execution_count": 1,
   "id": "05bf51d5",
   "metadata": {},
   "outputs": [
    {
     "name": "stderr",
     "output_type": "stream",
     "text": [
      "2021-12-18 17:38:05.943811: W tensorflow/stream_executor/platform/default/dso_loader.cc:64] Could not load dynamic library 'libcudart.so.11.0'; dlerror: libcudart.so.11.0: cannot open shared object file: No such file or directory\n",
      "2021-12-18 17:38:05.943838: I tensorflow/stream_executor/cuda/cudart_stub.cc:29] Ignore above cudart dlerror if you do not have a GPU set up on your machine.\n"
     ]
    }
   ],
   "source": [
    "import benepar\n",
    "\n",
    "import spacy"
   ]
  },
  {
   "cell_type": "code",
   "execution_count": null,
   "id": "84af6311",
   "metadata": {},
   "outputs": [],
   "source": [
    "parser.download('benepar_en3')"
   ]
  },
  {
   "cell_type": "code",
   "execution_count": 2,
   "id": "48e049fd",
   "metadata": {},
   "outputs": [],
   "source": [
    "nlp = spacy.load('en_core_web_md')\n",
    "if spacy.__version__.startswith('2'):\n",
    "    nlp.add_pipe(benepar.BeneparComponent(\"benepar_en3\"))\n",
    "else:\n",
    "    nlp.add_pipe(\"benepar\", config={\"model\": \"benepar_en3\"})"
   ]
  },
  {
   "cell_type": "code",
   "execution_count": 7,
   "id": "7efcded3",
   "metadata": {},
   "outputs": [
    {
     "name": "stdout",
     "output_type": "stream",
     "text": [
      "The time for action is now.\n"
     ]
    }
   ],
   "source": [
    "doc = nlp(\"The time for action is now. It's never too late to do something.\")\n",
    "sent = list(doc.sents)[0]\n",
    "print(sent)"
   ]
  },
  {
   "cell_type": "code",
   "execution_count": 3,
   "id": "6198f1ca",
   "metadata": {},
   "outputs": [
    {
     "name": "stdout",
     "output_type": "stream",
     "text": [
      "(TOP (S (`` ``) (VP (VB Fly) (ADVP (RB safely))) (. .) ('' '')))\n"
     ]
    },
    {
     "name": "stderr",
     "output_type": "stream",
     "text": [
      "/home/lay/Documents/Projects/TCC/explore-nlp-libs/.virtualenv/lib/python3.8/site-packages/torch/distributions/distribution.py:44: UserWarning: <class 'torch_struct.distributions.TreeCRF'> does not define `arg_constraints`. Please set `arg_constraints = {}` or initialize the distribution with `validate_args=False` to turn off validation.\n",
      "  warnings.warn(f'{self.__class__} does not define `arg_constraints`. ' +\n"
     ]
    }
   ],
   "source": [
    "parser = benepar.Parser(\"benepar_en3\")\n",
    "\n",
    "input_sentence = benepar.InputSentence(\n",
    "    words=['\"', 'Fly', 'safely', '.', '\"'],\n",
    "    space_after=[False, True, False, False, False],\n",
    "    tags=['``', 'VB', 'RB', '.', \"''\"],\n",
    "    escaped_words=['``', 'Fly', 'safely', '.', \"''\"],\n",
    ")\n",
    "\n",
    "tree = parser.parse(input_sentence)\n",
    "\n",
    "print(tree)"
   ]
  },
  {
   "cell_type": "code",
   "execution_count": 5,
   "id": "4a208cb8",
   "metadata": {},
   "outputs": [
    {
     "name": "stdout",
     "output_type": "stream",
     "text": [
      "huggingface/tokenizers: The current process just got forked, after parallelism has already been used. Disabling parallelism to avoid deadlocks...\n",
      "To disable this warning, you can either:\n",
      "\t- Avoid using `tokenizers` before the fork if possible\n",
      "\t- Explicitly set the environment variable TOKENIZERS_PARALLELISM=(true | false)\n"
     ]
    },
    {
     "data": {
      "image/png": "[encoded data removed]",
      "text/plain": [
       "Tree('TOP', [Tree('S', [Tree('``', ['\"']), Tree('VP', [Tree('VB', ['Fly']), Tree('ADVP', [Tree('RB', ['safely'])])]), Tree('.', ['.']), Tree(\"''\", ['\"'])])])"
      ]
     },
     "execution_count": 5,
     "metadata": {},
     "output_type": "execute_result"
    }
   ],
   "source": [
    "input_sentence = benepar.InputSentence(\n",
    "    words=['\"', 'Fly', 'safely', '.', '\"'],\n",
    ")\n",
    "\n",
    "parser.parse(input_sentence)"
   ]
  },
  {
   "cell_type": "code",
   "execution_count": 11,
   "id": "bf7a2249",
   "metadata": {},
   "outputs": [
    {
     "name": "stdout",
     "output_type": "stream",
     "text": [
      "huggingface/tokenizers: The current process just got forked, after parallelism has already been used. Disabling parallelism to avoid deadlocks...\n",
      "To disable this warning, you can either:\n",
      "\t- Avoid using `tokenizers` before the fork if possible\n",
      "\t- Explicitly set the environment variable TOKENIZERS_PARALLELISM=(true | false)\n"
     ]
    },
    {
     "data": {
      "image/png": "[encoded data removed]",
      "text/plain": [
       "Tree('TOP', [Tree('S', [Tree('NP', [Tree('NP', [Tree('DT', ['The']), Tree('NN', ['time'])]), Tree('PP', [Tree('IN', ['for']), Tree('NP', [Tree('NN', ['action'])])])]), Tree('VP', [Tree('VP', [Tree('VBZ', ['is']), Tree('ADVP', [Tree('RB', ['now'])])]), Tree('.', ['.']), Tree('NP', [Tree('PRP', ['It'])]), Tree('VP', [Tree('VBZ', [\"'s\"]), Tree('ADVP', [Tree('RB', ['never'])]), Tree('ADJP', [Tree('RB', ['too']), Tree('JJ', ['late']), Tree('S', [Tree('VP', [Tree('TO', ['to']), Tree('VP', [Tree('VB', ['do']), Tree('NP', [Tree('NN', ['something'])])])])])])])]), Tree('.', ['.'])])])"
      ]
     },
     "execution_count": 11,
     "metadata": {},
     "output_type": "execute_result"
    }
   ],
   "source": [
    "from nltk.tokenize import sent_tokenize, word_tokenize\n",
    "\n",
    "sample = \"The time for action is now. It's never too late to do something.\"\n",
    "\n",
    "parser.parse(word_tokenize(sample))"
   ]
  }
 ],
 "metadata": {
  "kernelspec": {
   "display_name": "Python 3 (ipykernel)",
   "language": "python",
   "name": "python3"
  },
  "language_info": {
   "codemirror_mode": {
    "name": "ipython",
    "version": 3
   },
   "file_extension": ".py",
   "mimetype": "text/x-python",
   "name": "python",
   "nbconvert_exporter": "python",
   "pygments_lexer": "ipython3",
   "version": "3.8.10"
  }
 },
 "nbformat": 4,
 "nbformat_minor": 5
}
